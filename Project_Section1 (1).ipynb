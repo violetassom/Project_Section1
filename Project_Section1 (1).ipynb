{
  "nbformat": 4,
  "nbformat_minor": 0,
  "metadata": {
    "colab": {
      "name": "Project_Section1.ipynb",
      "private_outputs": true,
      "provenance": [],
      "collapsed_sections": [],
      "toc_visible": true
    },
    "kernelspec": {
      "name": "python3",
      "display_name": "Python 3"
    },
    "language_info": {
      "name": "python"
    }
  },
  "cells": [
    {
      "cell_type": "markdown",
      "metadata": {
        "id": "uBnQSBoYFQpD"
      },
      "source": [
        "# INDEX\n",
        "Goal: 다음 분기에 어떤 게임을 설계해야 할까?\n",
        "1. Data Preprocessing\n",
        "2. 지역에 따라서 선호하는 게임 장르가 다를까\n",
        "3. 연도별 게임의 트렌드가 있을까\n",
        "4. 출고량이 높은 게임에 대한 Analysis 및 Visualization"
      ]
    },
    {
      "cell_type": "code",
      "metadata": {
        "id": "QPKaQZ-4Hv1Y"
      },
      "source": [
        "# Data preprocessing\n",
        "import numpy as np\n",
        "import pandas as pd\n",
        "\n",
        "# Analysis & Visualization\n",
        "from scipy.stats import chisquare  \n",
        "from scipy.stats import chi2_contingency\n",
        "from scipy import stats\n",
        "import matplotlib.pyplot as plt\n",
        "import seaborn as sns"
      ],
      "execution_count": null,
      "outputs": []
    },
    {
      "cell_type": "markdown",
      "metadata": {
        "id": "50HJZggJpgFD"
      },
      "source": [
        "# 1.Data Preprocessing"
      ]
    },
    {
      "cell_type": "code",
      "metadata": {
        "id": "xb1aaNooHcUz"
      },
      "source": [
        "vgames = pd.read_csv(\"/content/drive/MyDrive/aibootcamp/vgames2.csv\",encoding='utf-8')\n",
        "vgames = vgames.iloc[:,1:]\n",
        "vgames"
      ],
      "execution_count": null,
      "outputs": []
    },
    {
      "cell_type": "code",
      "metadata": {
        "id": "pG4enFnDIA7r"
      },
      "source": [
        "vgames.shape"
      ],
      "execution_count": null,
      "outputs": []
    },
    {
      "cell_type": "code",
      "metadata": {
        "id": "I9G-g9mHE9Yp"
      },
      "source": [
        "'''\n",
        "< object >\n",
        "Name : 게임의 이름입니다.\n",
        "Platform : 게임이 지원되는 플랫폼의 이름입니다.\n",
        "Genre : 게임의 장르입니다.\n",
        "Publisher : 게임을 제작한 회사입니다.\n",
        "\n",
        "< int or float >\n",
        "Year : 게임이 출시된 연도입니다.\n",
        "NA_Sales : 북미지역에서의 출고량입니다.\n",
        "EU_Sales : 유럽지역에서의 출고량입니다.\n",
        "JP_Sales : 일본지역에서의 출고량입니다.\n",
        "Other_Sales : 기타지역에서의 출고량입니다.\n",
        "'''"
      ],
      "execution_count": null,
      "outputs": []
    },
    {
      "cell_type": "markdown",
      "metadata": {
        "id": "NfrVHJqMpeFT"
      },
      "source": [
        "## -featrue type 맞춰주기"
      ]
    },
    {
      "cell_type": "code",
      "metadata": {
        "id": "qmjJNcOSIDCI"
      },
      "source": [
        "vgames.dtypes"
      ],
      "execution_count": null,
      "outputs": []
    },
    {
      "cell_type": "markdown",
      "metadata": {
        "id": "zhUFVwOLpwzj"
      },
      "source": [
        "### year convert"
      ]
    },
    {
      "cell_type": "code",
      "metadata": {
        "id": "c3WeTNhXhiyn"
      },
      "source": [
        "def convert_year(year):\n",
        "  if year <= 20:\n",
        "    return year + 2000\n",
        "  if year <= 99 :\n",
        "    return year + 1900\n",
        "  return year"
      ],
      "execution_count": null,
      "outputs": []
    },
    {
      "cell_type": "code",
      "metadata": {
        "id": "gAsE0dyCiGbW"
      },
      "source": [
        "vgames['Year'] = vgames['Year'].apply(convert_year)\n",
        "vgames['Year']"
      ],
      "execution_count": null,
      "outputs": []
    },
    {
      "cell_type": "code",
      "metadata": {
        "id": "zTiPpwMmlp23"
      },
      "source": [
        "vgames['Year'].value_counts()"
      ],
      "execution_count": null,
      "outputs": []
    },
    {
      "cell_type": "code",
      "metadata": {
        "id": "wiigH169nBZW"
      },
      "source": [
        "vgames.loc[vgames['Year']==2020,'Year'] = 2009"
      ],
      "execution_count": null,
      "outputs": []
    },
    {
      "cell_type": "code",
      "metadata": {
        "id": "m9EU6kMPnIAU"
      },
      "source": [
        "vgames.loc[vgames['Year']==2017,'Year'] = 2016"
      ],
      "execution_count": null,
      "outputs": []
    },
    {
      "cell_type": "code",
      "metadata": {
        "id": "yFeL-K6_nho1"
      },
      "source": [
        "vgames['Year'].value_counts()"
      ],
      "execution_count": null,
      "outputs": []
    },
    {
      "cell_type": "code",
      "metadata": {
        "id": "7N5nh9tfQEb6"
      },
      "source": [
        "def remove(x):\n",
        "\n",
        "  if str(x).find('K') != -1:\n",
        "    x = str(x)[:-1]\n",
        "    x = float(x)\n",
        "    return x/1000\n",
        "  if str(x).find('M') != -1:\n",
        "    x = str(x)[:-1]\n",
        "    return float(x)\n",
        "  return float(x)"
      ],
      "execution_count": null,
      "outputs": []
    },
    {
      "cell_type": "code",
      "metadata": {
        "id": "dBGm8wUMR6wG"
      },
      "source": [
        "vgames['NA_Sales'] = vgames['NA_Sales'].apply(remove)\n",
        "vgames['EU_Sales'] = vgames['EU_Sales'].apply(remove)\n",
        "vgames['JP_Sales'] = vgames['JP_Sales'].apply(remove)\n",
        "vgames['Other_Sales'] = vgames['Other_Sales'].apply(remove)"
      ],
      "execution_count": null,
      "outputs": []
    },
    {
      "cell_type": "code",
      "metadata": {
        "id": "jXnwGfRpbOLL"
      },
      "source": [
        "vgames.dtypes"
      ],
      "execution_count": null,
      "outputs": []
    },
    {
      "cell_type": "code",
      "metadata": {
        "id": "MwaX9Qw3Sxec"
      },
      "source": [
        "vgames['Platform'].value_counts()"
      ],
      "execution_count": null,
      "outputs": []
    },
    {
      "cell_type": "code",
      "metadata": {
        "id": "7gk3lnrUiE3U"
      },
      "source": [
        "vgames['Genre'].value_counts()"
      ],
      "execution_count": null,
      "outputs": []
    },
    {
      "cell_type": "code",
      "metadata": {
        "id": "kR-yhhqXiOVj"
      },
      "source": [
        "vgames['Publisher'].value_counts()"
      ],
      "execution_count": null,
      "outputs": []
    },
    {
      "cell_type": "code",
      "metadata": {
        "id": "JRsSLJ0fwD6h"
      },
      "source": [
        "vgames['Name'].unique"
      ],
      "execution_count": null,
      "outputs": []
    },
    {
      "cell_type": "code",
      "metadata": {
        "id": "ByGd4wum5GMD"
      },
      "source": [
        "vgames = vgames.sort_values(by='Year')\n",
        "vgames = vgames.reset_index()\n",
        "vgames = vgames.iloc[:,1:]\n",
        "vgames"
      ],
      "execution_count": null,
      "outputs": []
    },
    {
      "cell_type": "markdown",
      "metadata": {
        "id": "TEBEOrxcFuPH"
      },
      "source": [
        "## -결측값"
      ]
    },
    {
      "cell_type": "code",
      "metadata": {
        "id": "agE6JuMDgaV2"
      },
      "source": [
        "vgames.isna().sum()"
      ],
      "execution_count": null,
      "outputs": []
    },
    {
      "cell_type": "markdown",
      "metadata": {
        "id": "-nVYtoL7FzzS"
      },
      "source": [
        "### 중복값으로 결측값 상쇄"
      ]
    },
    {
      "cell_type": "code",
      "metadata": {
        "id": "a2NBNhKA52WJ"
      },
      "source": [
        "first_vgames= vgames[vgames.duplicated(['Name'],keep='first') == 0]\n",
        "first_vgames.isna().sum()"
      ],
      "execution_count": null,
      "outputs": []
    },
    {
      "cell_type": "code",
      "metadata": {
        "id": "y4WMFCSz_Rua"
      },
      "source": [
        "first_vgames.shape"
      ],
      "execution_count": null,
      "outputs": []
    },
    {
      "cell_type": "code",
      "metadata": {
        "id": "MzcW43hg7pjj"
      },
      "source": [
        "dupli_vgames = vgames[vgames.duplicated(['Name'],keep='first') == 1]\n",
        "dupli_vgames.isna().sum()"
      ],
      "execution_count": null,
      "outputs": []
    },
    {
      "cell_type": "code",
      "metadata": {
        "id": "4w2QgNDIAA5S"
      },
      "source": [
        "dupli_vgames"
      ],
      "execution_count": null,
      "outputs": []
    },
    {
      "cell_type": "code",
      "metadata": {
        "id": "gnCjGu-RAGA4"
      },
      "source": [
        "range(len(vgames))"
      ],
      "execution_count": null,
      "outputs": []
    },
    {
      "cell_type": "code",
      "metadata": {
        "id": "F2WT3-bW_1fD"
      },
      "source": [
        "range(len(dupli_vgames))"
      ],
      "execution_count": null,
      "outputs": []
    },
    {
      "cell_type": "code",
      "metadata": {
        "id": "DR05BIBUAztq"
      },
      "source": [
        "dupli_nayear_index = dupli_vgames[dupli_vgames['Year'].isna()==1].index\n",
        "dupli_nagenre_index = dupli_vgames[dupli_vgames['Genre'].isna()==1].index\n",
        "dupli_napublisher_index = dupli_vgames[dupli_vgames['Publisher'].isna()==1].index\n",
        "dupli_napublisher_index"
      ],
      "execution_count": null,
      "outputs": []
    },
    {
      "cell_type": "code",
      "metadata": {
        "id": "DYxxcn8X_kDn"
      },
      "source": [
        "for i in dupli_nayear_index:\n",
        "  name = vgames.loc[i]['Name']\n",
        "  temp_df = vgames[vgames['Name'] == name]\n",
        "  vgames.at[i,'Year'] = temp_df.iloc[0]['Year']"
      ],
      "execution_count": null,
      "outputs": []
    },
    {
      "cell_type": "code",
      "metadata": {
        "id": "ilrm7vdhZkLf"
      },
      "source": [
        "for i in dupli_nagenre_index:\n",
        "  name = vgames.loc[i]['Name']\n",
        "  temp_df = vgames[vgames['Name'] == name]\n",
        "  temp_df = temp_df.sort_values(by=['Genre'],na_position='last')\n",
        "  vgames.at[i,'Genre'] = temp_df.iloc[0]['Genre']"
      ],
      "execution_count": null,
      "outputs": []
    },
    {
      "cell_type": "code",
      "metadata": {
        "id": "Iz5xyKVLbk9p"
      },
      "source": [
        "for i in dupli_napublisher_index:\n",
        "  name = vgames.loc[i]['Name']\n",
        "  temp_df = vgames[vgames['Name'] == name]\n",
        "  temp_df = temp_df.sort_values(by=['Publisher'],na_position='last')\n",
        "  vgames.at[i,'Publisher'] = temp_df.iloc[0]['Publisher']"
      ],
      "execution_count": null,
      "outputs": []
    },
    {
      "cell_type": "code",
      "metadata": {
        "id": "au5UCsr_fRO0"
      },
      "source": [
        "vgames = vgames.sort_values(by='Year')\n",
        "vgames"
      ],
      "execution_count": null,
      "outputs": []
    },
    {
      "cell_type": "code",
      "metadata": {
        "id": "qkM1ajMEe3Nq"
      },
      "source": [
        "first_nagenre_index = first_vgames[first_vgames['Genre'].isna()==1].index\n",
        "first_napublisher_index = first_vgames[first_vgames['Publisher'].isna()==1].index"
      ],
      "execution_count": null,
      "outputs": []
    },
    {
      "cell_type": "code",
      "metadata": {
        "id": "zuwjlrTu7m4h"
      },
      "source": [
        "first_nagenre_index"
      ],
      "execution_count": null,
      "outputs": []
    },
    {
      "cell_type": "code",
      "metadata": {
        "id": "MMORSwpz76uC"
      },
      "source": [
        "vgames"
      ],
      "execution_count": null,
      "outputs": []
    },
    {
      "cell_type": "code",
      "metadata": {
        "id": "t6QeUueP78vV"
      },
      "source": [
        "vgames[vgames['Name'] == vgames.loc[3]['Name']]"
      ],
      "execution_count": null,
      "outputs": []
    },
    {
      "cell_type": "code",
      "metadata": {
        "id": "TVSK6Xs1fGZ3"
      },
      "source": [
        "for i in first_nagenre_index:\n",
        "  name = vgames.loc[i]['Name']\n",
        "  temp_df = vgames[vgames['Name'] == name]\n",
        "  temp_df = temp_df.sort_values(by=['Genre'],na_position='last')\n",
        "  if len(temp_df) >=2:\n",
        "    vgames.at[i,'Genre'] = temp_df.iloc[0]['Genre']"
      ],
      "execution_count": null,
      "outputs": []
    },
    {
      "cell_type": "code",
      "metadata": {
        "id": "mxO-W2TPfqut"
      },
      "source": [
        "for i in first_napublisher_index:\n",
        "  name = vgames.loc[i]['Name']\n",
        "  temp_df = vgames[vgames['Name'] == name]\n",
        "  temp_df = temp_df.sort_values(by=['Publisher'],na_position='last')\n",
        "  if len(temp_df) >=2:\n",
        "    vgames.at[i,'Publisher'] = temp_df.iloc[0]['Publisher']"
      ],
      "execution_count": null,
      "outputs": []
    },
    {
      "cell_type": "code",
      "metadata": {
        "id": "0mKy9ywRDMhG"
      },
      "source": [
        "vgames.isna().sum()"
      ],
      "execution_count": null,
      "outputs": []
    },
    {
      "cell_type": "markdown",
      "metadata": {
        "id": "kiTr45Jkf_3U"
      },
      "source": [
        "### 장르 최빈값으로 결측값 채우기"
      ]
    },
    {
      "cell_type": "code",
      "metadata": {
        "id": "p96KV8PMr3yC"
      },
      "source": [
        "vgames[vgames['Genre'].isnull()]"
      ],
      "execution_count": null,
      "outputs": []
    },
    {
      "cell_type": "code",
      "metadata": {
        "id": "LlesX0N_Qpol"
      },
      "source": [
        "genre_naindex = vgames[vgames['Genre'].isnull()].index\n",
        "genre_naindex"
      ],
      "execution_count": null,
      "outputs": []
    },
    {
      "cell_type": "code",
      "metadata": {
        "id": "jvNrQXdH5Y0J"
      },
      "source": [
        "# Genre NAN 1\n",
        "print(vgames.loc[genre_naindex[0],'Name'])\n",
        "print(vgames[vgames['Name'].str.contains('Racing')]['Genre'].mode()[0])\n",
        "vgames.at[genre_naindex[0],'Genre'] = vgames[vgames['Name'].str.contains('Racing')]['Genre'].mode()[0]\n",
        "print(vgames.at[genre_naindex[0],'Genre'])"
      ],
      "execution_count": null,
      "outputs": []
    },
    {
      "cell_type": "code",
      "metadata": {
        "id": "iWUkRS4DTM2t"
      },
      "source": [
        "# Genre NAN 2\n",
        "print(vgames.loc[genre_naindex[1],'Name'])\n",
        "print(vgames[vgames['Name'].str.contains('Chess')]['Genre'].mode()[0])\n",
        "vgames.at[genre_naindex[1],'Genre'] = vgames[vgames['Name'].str.contains('Chess')]['Genre'].mode()[0]\n",
        "print(vgames.at[genre_naindex[1],'Genre'])"
      ],
      "execution_count": null,
      "outputs": []
    },
    {
      "cell_type": "code",
      "metadata": {
        "id": "k3io48PyTNxF"
      },
      "source": [
        "# Genre NAN 3\n",
        "print(vgames.loc[genre_naindex[2],'Name'])\n",
        "print(vgames[vgames['Name'].str.contains('F-Zero')]['Genre'].mode()[0])\n",
        "vgames.at[genre_naindex[2],'Genre'] = vgames[vgames['Name'].str.contains('F-Zero')]['Genre'].mode()[0]\n",
        "print(vgames.at[genre_naindex[2],'Genre'])"
      ],
      "execution_count": null,
      "outputs": []
    },
    {
      "cell_type": "code",
      "metadata": {
        "id": "2lgt-asMTy1s"
      },
      "source": [
        "# Genre NAN 4\n",
        "print(vgames.loc[genre_naindex[3],'Name'])\n",
        "print(vgames[vgames['Name'].str.contains('Chrono')]['Genre'].mode()[0])\n",
        "vgames.at[genre_naindex[3],'Genre'] = vgames[vgames['Name'].str.contains('Chrono')]['Genre'].mode()[0]\n",
        "print(vgames.at[genre_naindex[3],'Genre'])"
      ],
      "execution_count": null,
      "outputs": []
    },
    {
      "cell_type": "code",
      "metadata": {
        "id": "ql-XJuUxUaz7"
      },
      "source": [
        "# Genre NAN 5\n",
        "print(vgames.loc[genre_naindex[4],'Name'])\n",
        "print(vgames[vgames['Name'].str.contains('Urban Chaos')]['Genre'].mode()[0])\n",
        "vgames.at[genre_naindex[4],'Genre'] = vgames[vgames['Name'].str.contains('Urban Chaos')]['Genre'].mode()[0]\n",
        "print(vgames.at[genre_naindex[4],'Genre'])"
      ],
      "execution_count": null,
      "outputs": []
    },
    {
      "cell_type": "code",
      "metadata": {
        "id": "j50QgA8vUvmh"
      },
      "source": [
        "# Genre NAN 6\n",
        "print(vgames.loc[genre_naindex[5],'Name'])\n",
        "print(vgames[vgames['Name'].str.contains('Jurassic Park III')]['Genre'].mode()[0])\n",
        "vgames.at[genre_naindex[5],'Genre'] = vgames[vgames['Name'].str.contains('Jurassic Park III')]['Genre'].mode()[0]\n",
        "print(vgames.at[genre_naindex[5],'Genre'])"
      ],
      "execution_count": null,
      "outputs": []
    },
    {
      "cell_type": "code",
      "metadata": {
        "id": "JBexJt30VIg6"
      },
      "source": [
        "# Genre NAN 7\n",
        "print(vgames.loc[genre_naindex[6],'Name'])\n",
        "print(vgames[vgames['Name'].str.contains('Onimusha')]['Genre'].mode()[0])\n",
        "vgames.at[genre_naindex[6],'Genre'] = vgames[vgames['Name'].str.contains('Onimusha')]['Genre'].mode()[0]\n",
        "print(vgames.at[genre_naindex[6],'Genre'])"
      ],
      "execution_count": null,
      "outputs": []
    },
    {
      "cell_type": "code",
      "metadata": {
        "id": "wDVw5MbcWAju"
      },
      "source": [
        "# Genre NAN 8\n",
        "print(vgames.loc[genre_naindex[7],'Name'])\n",
        "print(vgames[vgames['Name'].str.contains('Commando')]['Genre'].mode()[0])\n",
        "vgames.at[genre_naindex[7],'Genre'] = vgames[vgames['Name'].str.contains('Commando')]['Genre'].mode()[0]\n",
        "print(vgames.at[genre_naindex[7],'Genre'])"
      ],
      "execution_count": null,
      "outputs": []
    },
    {
      "cell_type": "code",
      "metadata": {
        "id": "16uNOQ_MWYLW"
      },
      "source": [
        "# Genre NAN 9\n",
        "print(vgames.loc[genre_naindex[8],'Name'])\n",
        "print(vgames[vgames['Name'].str.contains('Medabots')]['Genre'].mode()[0])\n",
        "vgames.at[genre_naindex[8],'Genre'] = vgames[vgames['Name'].str.contains('Medabots')]['Genre'].mode()[0]\n",
        "print(vgames.at[genre_naindex[8],'Genre'])"
      ],
      "execution_count": null,
      "outputs": []
    },
    {
      "cell_type": "code",
      "metadata": {
        "id": "jA0h4a3GWtK-"
      },
      "source": [
        "# Genre NAN 10\n",
        "print(vgames.loc[genre_naindex[9],'Name'])\n",
        "print(vgames[vgames['Name'].str.contains('WarioWare')]['Genre'].mode()[0])\n",
        "vgames.at[genre_naindex[9],'Genre'] = vgames[vgames['Name'].str.contains('WarioWare')]['Genre'].mode()[0]\n",
        "print(vgames.at[genre_naindex[9],'Genre'])"
      ],
      "execution_count": null,
      "outputs": []
    },
    {
      "cell_type": "code",
      "metadata": {
        "id": "5XumoufSW-u9"
      },
      "source": [
        "# Genre NAN 11\n",
        "print(vgames.loc[genre_naindex[10],'Name'])\n",
        "print(vgames[vgames['Name'].str.contains('Ape Escape')]['Genre'].mode()[0])\n",
        "vgames.at[genre_naindex[10],'Genre'] = vgames[vgames['Name'].str.contains('Ape Escape')]['Genre'].mode()[0]\n",
        "print(vgames.at[genre_naindex[10],'Genre'])"
      ],
      "execution_count": null,
      "outputs": []
    },
    {
      "cell_type": "code",
      "metadata": {
        "id": "BQDJ7xedXUih"
      },
      "source": [
        "# Genre NAN 12\n",
        "print(vgames.loc[genre_naindex[11],'Name'])\n",
        "print(vgames[vgames['Name'].str.contains('Brain Boost')]['Genre'].mode()[0])\n",
        "vgames.at[genre_naindex[11],'Genre'] = vgames[vgames['Name'].str.contains('Brain Boost')]['Genre'].mode()[0]\n",
        "print(vgames.at[genre_naindex[11],'Genre'])"
      ],
      "execution_count": null,
      "outputs": []
    },
    {
      "cell_type": "code",
      "metadata": {
        "id": "R5nT3cigXlP0"
      },
      "source": [
        "# Genre NAN 13\n",
        "print(vgames.loc[genre_naindex[12],'Name'])\n",
        "print(vgames[vgames['Name'].str.contains('Story')]['Genre'].mode()[0])\n",
        "vgames.at[genre_naindex[12],'Genre'] = vgames[vgames['Name'].str.contains('Story')]['Genre'].mode()[0]\n",
        "print(vgames.at[genre_naindex[12],'Genre'])"
      ],
      "execution_count": null,
      "outputs": []
    },
    {
      "cell_type": "code",
      "metadata": {
        "id": "gQ8OJF2fYEac"
      },
      "source": [
        "# Genre NAN 14\n",
        "print(vgames.loc[genre_naindex[13],'Name'])\n",
        "print(vgames[vgames['Name'].str.contains('Final Fantasy')]['Genre'].mode()[0])\n",
        "vgames.at[genre_naindex[13],'Genre'] = vgames[vgames['Name'].str.contains('Final Fantasy')]['Genre'].mode()[0]\n",
        "print(vgames.at[genre_naindex[13],'Genre'])"
      ],
      "execution_count": null,
      "outputs": []
    },
    {
      "cell_type": "code",
      "metadata": {
        "id": "RMn1zdbIYM3e"
      },
      "source": [
        "# Genre NAN 15\n",
        "print(vgames.loc[genre_naindex[14],'Name'])\n",
        "print(vgames[vgames['Name'].str.contains('PQ')]['Genre'].mode()[0])\n",
        "vgames.at[genre_naindex[14],'Genre'] = vgames[vgames['Name'].str.contains('PQ')]['Genre'].mode()[0]\n",
        "print(vgames.at[genre_naindex[14],'Genre'])"
      ],
      "execution_count": null,
      "outputs": []
    },
    {
      "cell_type": "code",
      "metadata": {
        "id": "1zaQmL75Ypni"
      },
      "source": [
        "# Genre NAN 16\n",
        "print(vgames.loc[genre_naindex[15],'Name'])\n",
        "print(vgames[vgames['Name'].str.contains('Kart')]['Genre'].mode()[0])\n",
        "vgames.at[genre_naindex[15],'Genre'] = vgames[vgames['Name'].str.contains('Kart')]['Genre'].mode()[0]\n",
        "print(vgames.at[genre_naindex[15],'Genre'])"
      ],
      "execution_count": null,
      "outputs": []
    },
    {
      "cell_type": "code",
      "metadata": {
        "id": "GvrxW3LeZFyG"
      },
      "source": [
        "# Genre NAN 17\n",
        "print(vgames.loc[genre_naindex[16],'Name'])\n",
        "print(vgames[vgames['Name'].str.contains('The Godfather')]['Genre'].mode()[0])\n",
        "vgames.at[genre_naindex[16],'Genre'] = vgames[vgames['Name'].str.contains('The Godfather')]['Genre'].mode()[0]\n",
        "print(vgames.at[genre_naindex[16],'Genre'])"
      ],
      "execution_count": null,
      "outputs": []
    },
    {
      "cell_type": "code",
      "metadata": {
        "id": "UQRx-UosZWOK"
      },
      "source": [
        "# Genre NAN 18\n",
        "print(vgames.loc[genre_naindex[17],'Name'])\n",
        "print(vgames[vgames['Name'].str.contains('UFO')]['Genre'].mode()[0])\n",
        "vgames.at[genre_naindex[17],'Genre'] = vgames[vgames['Name'].str.contains('UFO')]['Genre'].mode()[0]\n",
        "print(vgames.at[genre_naindex[17],'Genre'])"
      ],
      "execution_count": null,
      "outputs": []
    },
    {
      "cell_type": "code",
      "metadata": {
        "id": "L3h1SOLxZtH3"
      },
      "source": [
        "# Genre NAN 19\n",
        "print(vgames.loc[genre_naindex[18],'Name'])\n",
        "print(vgames[vgames['Name'].str.contains('Myth Makers')]['Genre'].mode()[0])\n",
        "vgames.at[genre_naindex[18],'Genre'] = vgames[vgames['Name'].str.contains('Myth Makers')]['Genre'].mode()[0]\n",
        "print(vgames.at[genre_naindex[18],'Genre'])"
      ],
      "execution_count": null,
      "outputs": []
    },
    {
      "cell_type": "code",
      "metadata": {
        "id": "FBCX2fV-aZUj"
      },
      "source": [
        "# Genre NAN 20\n",
        "print(vgames.loc[genre_naindex[19],'Name'])\n",
        "print(vgames[vgames['Name'].str.contains('SingStar')]['Genre'].mode()[0])\n",
        "vgames.at[genre_naindex[19],'Genre'] = vgames[vgames['Name'].str.contains('SingStar')]['Genre'].mode()[0]\n",
        "print(vgames.at[genre_naindex[19],'Genre'])"
      ],
      "execution_count": null,
      "outputs": []
    },
    {
      "cell_type": "code",
      "metadata": {
        "id": "DPv0_ujcawHM"
      },
      "source": [
        "# Genre NAN 21\n",
        "print(vgames.loc[genre_naindex[20],'Name'])\n",
        "print(vgames[vgames['Name'].str.contains('Brain Quest')]['Genre'].mode()[0])\n",
        "vgames.at[genre_naindex[20],'Genre'] = vgames[vgames['Name'].str.contains('Brain Quest')]['Genre'].mode()[0]\n",
        "print(vgames.at[genre_naindex[20],'Genre'])"
      ],
      "execution_count": null,
      "outputs": []
    },
    {
      "cell_type": "code",
      "metadata": {
        "id": "ICUvQFBvbD4p"
      },
      "source": [
        "# Genre NAN 22\n",
        "print(vgames.loc[genre_naindex[21],'Name'])\n",
        "print(vgames[vgames['Name'].str.contains('Puppy')]['Genre'].mode()[0])\n",
        "vgames.at[genre_naindex[21],'Genre'] = vgames[vgames['Name'].str.contains('Puppy')]['Genre'].mode()[0]\n",
        "print(vgames.at[genre_naindex[21],'Genre'])"
      ],
      "execution_count": null,
      "outputs": []
    },
    {
      "cell_type": "code",
      "metadata": {
        "id": "9ndiaQHDbuvM"
      },
      "source": [
        "# Genre NAN 23\n",
        "print(vgames.loc[genre_naindex[22],'Name'])\n",
        "print(vgames[vgames['Name'].str.contains('Yakuza')]['Genre'].mode()[0])\n",
        "vgames.at[genre_naindex[22],'Genre'] = vgames[vgames['Name'].str.contains('Yakuza')]['Genre'].mode()[0]\n",
        "print(vgames.at[genre_naindex[22],'Genre'])"
      ],
      "execution_count": null,
      "outputs": []
    },
    {
      "cell_type": "code",
      "metadata": {
        "id": "HYXWcm5lb6gr"
      },
      "source": [
        "# Genre NAN 24\n",
        "print(vgames.loc[genre_naindex[23],'Name'])\n",
        "print(vgames[vgames['Name'].str.contains('Party')]['Genre'].mode()[0])\n",
        "vgames.at[genre_naindex[23],'Genre'] = vgames[vgames['Name'].str.contains('Party')]['Genre'].mode()[0]\n",
        "print(vgames.at[genre_naindex[23],'Genre'])"
      ],
      "execution_count": null,
      "outputs": []
    },
    {
      "cell_type": "code",
      "metadata": {
        "id": "vGHlka9DcGb2"
      },
      "source": [
        "# Genre NAN 25\n",
        "print(vgames.loc[genre_naindex[24],'Name'])\n",
        "print(vgames[vgames['Name'].str.contains('Princess')]['Genre'].mode()[0])\n",
        "vgames.at[genre_naindex[24],'Genre'] = vgames[vgames['Name'].str.contains('Princess')]['Genre'].mode()[0]\n",
        "print(vgames.at[genre_naindex[24],'Genre'])"
      ],
      "execution_count": null,
      "outputs": []
    },
    {
      "cell_type": "code",
      "metadata": {
        "id": "VDS1lncJcgUq"
      },
      "source": [
        "# Genre NAN 26\n",
        "print(vgames.loc[genre_naindex[25],'Name'])\n",
        "print(vgames[vgames['Name'].str.contains('Treasure')]['Genre'].mode()[0])\n",
        "vgames.at[genre_naindex[25],'Genre'] = vgames[vgames['Name'].str.contains('Treasure')]['Genre'].mode()[0]\n",
        "print(vgames.at[genre_naindex[25],'Genre'])"
      ],
      "execution_count": null,
      "outputs": []
    },
    {
      "cell_type": "code",
      "metadata": {
        "id": "qnO-9HvIdCwR"
      },
      "source": [
        "# Genre NAN 27\n",
        "print(vgames.loc[genre_naindex[26],'Name'])\n",
        "print(vgames[vgames['Name'].str.contains('Portable')]['Genre'].mode()[0])\n",
        "vgames.at[genre_naindex[26],'Genre'] = vgames[vgames['Name'].str.contains('Portable')]['Genre'].mode()[0]\n",
        "print(vgames.at[genre_naindex[26],'Genre'])"
      ],
      "execution_count": null,
      "outputs": []
    },
    {
      "cell_type": "code",
      "metadata": {
        "id": "Mo8qjVEIdX5F"
      },
      "source": [
        "# Genre NAN 28\n",
        "print(vgames.loc[genre_naindex[27],'Name'])\n",
        "print(vgames[vgames['Name'].str.contains('Pokemon')]['Genre'].mode()[0])\n",
        "vgames.at[genre_naindex[27],'Genre'] = vgames[vgames['Name'].str.contains('Pokemon')]['Genre'].mode()[0]\n",
        "print(vgames.at[genre_naindex[27],'Genre'])"
      ],
      "execution_count": null,
      "outputs": []
    },
    {
      "cell_type": "code",
      "metadata": {
        "id": "_XgmKVkIdhHw"
      },
      "source": [
        "# Genre NAN 29\n",
        "print(vgames.loc[genre_naindex[28],'Name'])\n",
        "print(vgames[vgames['Name'].str.contains('Blood')]['Genre'].mode()[0])\n",
        "vgames.at[genre_naindex[28],'Genre'] = vgames[vgames['Name'].str.contains('Blood')]['Genre'].mode()[0]\n",
        "print(vgames.at[genre_naindex[28],'Genre'])"
      ],
      "execution_count": null,
      "outputs": []
    },
    {
      "cell_type": "code",
      "metadata": {
        "id": "cU2PtRvmdytf"
      },
      "source": [
        "# Genre NAN 30\n",
        "print(vgames.loc[genre_naindex[29],'Name'])\n",
        "print(vgames[vgames['Name'].str.contains('Ukiyo')]['Genre'].mode()[0])\n",
        "vgames.at[genre_naindex[29],'Genre'] = vgames[vgames['Name'].str.contains('Ukiyo')]['Genre'].mode()[0]\n",
        "print(vgames.at[genre_naindex[29],'Genre'])"
      ],
      "execution_count": null,
      "outputs": []
    },
    {
      "cell_type": "code",
      "metadata": {
        "id": "99dqNjKUeCFn"
      },
      "source": [
        "vgames.isna().sum()"
      ],
      "execution_count": null,
      "outputs": []
    },
    {
      "cell_type": "markdown",
      "metadata": {
        "id": "FryJD0M0gKV6"
      },
      "source": [
        "### Year 결측값 채우기 - 플랫폼마다 평균 연도는 다를 것이다."
      ]
    },
    {
      "cell_type": "code",
      "metadata": {
        "id": "DKA5u1nqjVLt"
      },
      "source": [
        "platform_names = vgames['Platform'].unique()\n",
        "platform_names"
      ],
      "execution_count": null,
      "outputs": []
    },
    {
      "cell_type": "code",
      "metadata": {
        "id": "gM1iM1VqjbjZ"
      },
      "source": [
        "num = 0\n",
        "group = dict()\n",
        "for i in range(len(platform_names)):\n",
        "  group[num] = 0\n",
        "  group[num] = np.array(vgames[(vgames['Platform']== platform_names[i])&(vgames['Year'].notnull())]['Year'])\n",
        "  num = num+1"
      ],
      "execution_count": null,
      "outputs": []
    },
    {
      "cell_type": "code",
      "metadata": {
        "id": "b0Qru4cRi2KP"
      },
      "source": [
        "F_statistic, pVal = stats.f_oneway(group[0],group[1],group[2],group[3],\n",
        "                                   group[4],group[5],group[6],group[7],\n",
        "                                   group[8],group[9],group[10],group[11],\n",
        "                                   group[12],group[13],group[14],group[15],\n",
        "                                   group[16],group[17],group[18],group[19],\n",
        "                                   group[20],group[21],group[22],group[23],\n",
        "                                   group[24],group[25],group[26],group[27],\n",
        "                                   group[28],group[29])\n",
        "\n",
        "print('플랫폼의 연도 일원분산분석 결과 : F={0:.1f}, p={1:.5f}'.format(F_statistic, pVal))\n",
        "if pVal < 0.05:\n",
        "    print('P-value 값이 충분히 작음으로 인해 그룹의 평균값이 통계적으로 유의미하게 차이납니다.')"
      ],
      "execution_count": null,
      "outputs": []
    },
    {
      "cell_type": "code",
      "metadata": {
        "id": "wkGBSuBagMoE"
      },
      "source": [
        "nayear = vgames[vgames['Year'].isna()]\n",
        "nayear_index = nayear.index\n",
        "nayear_index"
      ],
      "execution_count": null,
      "outputs": []
    },
    {
      "cell_type": "code",
      "metadata": {
        "id": "dZgHgG3_gx0q"
      },
      "source": [
        "platform_yearmean = pd.DataFrame(vgames.groupby('Platform')['Year'].mean())\n",
        "platform_yearmean = platform_yearmean.apply(round)\n",
        "platform_yearmean"
      ],
      "execution_count": null,
      "outputs": []
    },
    {
      "cell_type": "code",
      "metadata": {
        "id": "nzxP3xwagbXc"
      },
      "source": [
        "for i in nayear_index:\n",
        "  platform_name = vgames.loc[i,'Platform']\n",
        "  vgames.at[i,'Year'] = platform_yearmean.loc[platform_name]"
      ],
      "execution_count": null,
      "outputs": []
    },
    {
      "cell_type": "code",
      "metadata": {
        "id": "Bcg29grMicVu"
      },
      "source": [
        "vgames.isna().sum()"
      ],
      "execution_count": null,
      "outputs": []
    },
    {
      "cell_type": "markdown",
      "metadata": {
        "id": "d3petxv5r9zo"
      },
      "source": [
        "# 2.지역에 따라서 선호하는 게임 장르가 다를까\n"
      ]
    },
    {
      "cell_type": "code",
      "metadata": {
        "id": "V0-WT0yhtv97"
      },
      "source": [
        "# 귀무가설: 지역에 따른 선호하는 게임 장르가 독립적이다.\n",
        "# 대립가설: 지역에 따른 선호하는 게임 장르가 독립적이지 않다."
      ],
      "execution_count": null,
      "outputs": []
    },
    {
      "cell_type": "code",
      "metadata": {
        "id": "LF5R3Oj6PCyk"
      },
      "source": [
        "a = pd.DataFrame(vgames['NA_Sales'].groupby(vgames[\"Genre\"]).sum())\n",
        "b = pd.DataFrame(vgames['EU_Sales'].groupby(vgames[\"Genre\"]).sum())\n",
        "c = pd.DataFrame(vgames['JP_Sales'].groupby(vgames[\"Genre\"]).sum())\n",
        "d = pd.DataFrame(vgames['Other_Sales'].groupby(vgames[\"Genre\"]).sum())\n",
        "\n",
        "ab = pd.merge(a,b,left_index=True, right_index=True,how='outer')\n",
        "cd = pd.merge(c,d,left_index=True, right_index=True,how='outer')\n",
        "abcd = pd.merge(ab,cd,left_index=True, right_index=True,how='outer')\n",
        "abcd"
      ],
      "execution_count": null,
      "outputs": []
    },
    {
      "cell_type": "markdown",
      "metadata": {
        "id": "JTf3pawTFA3m"
      },
      "source": [
        "## 분석"
      ]
    },
    {
      "cell_type": "code",
      "metadata": {
        "id": "yFJ8tFkNxQsG"
      },
      "source": [
        "# χ2 - test 가설 검정 \n",
        "chipv = chi2_contingency(abcd, correction = True)\n",
        "print(\"카이제곱 검정 결과 p-value가\",round(chipv[1],4),\"가 나왔으므로, \\n지역에 따라 선호하는 게임 장르가 독립적인지에 대한 귀무가설을 유의수준 5%에서 기각한다.\")\n",
        "print(\"따라서 지역에 따른 선호 게임 장르가 독립적이지 않다는 대립가설을 채택한다.\")"
      ],
      "execution_count": null,
      "outputs": []
    },
    {
      "cell_type": "code",
      "metadata": {
        "id": "7BDiUOSNCxMz"
      },
      "source": [
        "print(\"미국과 유럽과 기타 지역 Action Sports Shooter\")\n",
        "print(\"일본 Role-Playing Action Sports \")"
      ],
      "execution_count": null,
      "outputs": []
    },
    {
      "cell_type": "markdown",
      "metadata": {
        "id": "K8ZknuuCsELE"
      },
      "source": [
        "# 3.연도별 게임의 트렌드가 있을까\n"
      ]
    },
    {
      "cell_type": "code",
      "metadata": {
        "id": "XWqwqyVU15-7"
      },
      "source": [
        "vgames"
      ],
      "execution_count": null,
      "outputs": []
    },
    {
      "cell_type": "code",
      "metadata": {
        "id": "7_8zHgUmtNGm"
      },
      "source": [
        "vgames_anal2 = vgames.sort_values(by='Year')\n",
        "vgames_anal2"
      ],
      "execution_count": null,
      "outputs": []
    },
    {
      "cell_type": "code",
      "metadata": {
        "id": "PefvNgqo2bNo"
      },
      "source": [
        "year_genre = pd.DataFrame(vgames_anal2.groupby('Year')['Genre'].value_counts())\n",
        "year_genre"
      ],
      "execution_count": null,
      "outputs": []
    },
    {
      "cell_type": "code",
      "metadata": {
        "id": "BvPKEHrx4Dm3"
      },
      "source": [
        "genre_year = pd.DataFrame(vgames_anal2.groupby('Genre')['Year'].value_counts())\n",
        "genre_year"
      ],
      "execution_count": null,
      "outputs": []
    },
    {
      "cell_type": "code",
      "metadata": {
        "id": "KhGrmbOd7y8M"
      },
      "source": [
        "anal2_unstack = genre_year.unstack(level=0)\n",
        "anal2_unstack = anal2_unstack.fillna(0)\n",
        "anal2_unstack.head()"
      ],
      "execution_count": null,
      "outputs": []
    },
    {
      "cell_type": "code",
      "metadata": {
        "id": "nJpxEcY4Csgl"
      },
      "source": [
        "year_genre_unstack = year_genre.unstack()\n",
        "year_genre_unstack = year_genre_unstack.fillna(0)\n",
        "year_genre_unstack.head()"
      ],
      "execution_count": null,
      "outputs": []
    },
    {
      "cell_type": "code",
      "metadata": {
        "id": "BovQLYQU5zCR"
      },
      "source": [
        "plt.figure(figsize=(20,5))\n",
        "plt.plot(anal2_unstack.index, anal2_unstack.Year)\n",
        "plt.title('Line Graph Year Genre', fontsize=20) \n",
        "\n",
        "plt.ylabel('Cummulative Num', fontsize=14)\n",
        "\n",
        "plt.xlabel('Year', fontsize=14)\n",
        "\n",
        "plt.legend(fontsize=12, loc='best')\n",
        "\n",
        "plt.show()"
      ],
      "execution_count": null,
      "outputs": []
    },
    {
      "cell_type": "code",
      "metadata": {
        "id": "JHSxKB0gE-40"
      },
      "source": [
        "yeargenre_sum = pd.DataFrame(vgames.groupby(['Year','Genre']).sum().sum(axis=1)).unstack()\n",
        "yeargenre_sum = yeargenre_sum.fillna(0)\n",
        "yeargenre_sum.head()"
      ],
      "execution_count": null,
      "outputs": []
    },
    {
      "cell_type": "code",
      "metadata": {
        "id": "hJIITnCfGRC9"
      },
      "source": [
        "# χ2 - test 가설 검정 \n",
        "chipv3 = chi2_contingency(yeargenre_sum, correction = True)\n",
        "print(\"카이제곱 검정 결과 p-value가\",round(chipv3[1],4),\"가 나왔으므로, \\n연도에 따른 게임 장르가 독립적인지에 대한 귀무가설을 유의수준 5%에서 기각한다.\")\n",
        "print(\"따라서 연도에 따른 게임 장르가 독립적이지 않다는 대립가설을 채택한다.\")"
      ],
      "execution_count": null,
      "outputs": []
    },
    {
      "cell_type": "code",
      "metadata": {
        "id": "eYxJb8oBJWZC"
      },
      "source": [
        "genre_names = vgames['Genre'].unique()\n",
        "genre_names"
      ],
      "execution_count": null,
      "outputs": []
    },
    {
      "cell_type": "code",
      "metadata": {
        "id": "vz5ZW4fCHgD7"
      },
      "source": [
        "plt.figure(figsize=(20,5))\n",
        "for i in genre_names:\n",
        "  plt.plot(yeargenre_sum.index, yeargenre_sum[(0,i)])\n",
        "  plt.title('Line Graph Year Genre', fontsize=20) \n",
        "  plt.ylabel('Total Sales', fontsize=14)\n",
        "  plt.xlabel('Year', fontsize=14)\n",
        "plt.show()"
      ],
      "execution_count": null,
      "outputs": []
    },
    {
      "cell_type": "code",
      "metadata": {
        "id": "Ybl1y33oOKXz"
      },
      "source": [
        "grouped = pd.DataFrame(vgames.groupby(['Year','Genre']).sum().sum(axis=1))\n",
        "ggg = grouped.unstack().fillna(0)\n",
        "ggg.head()"
      ],
      "execution_count": null,
      "outputs": []
    },
    {
      "cell_type": "code",
      "metadata": {
        "id": "icMAaTteN0NH"
      },
      "source": [
        "for i in ggg.index:\n",
        "  temp_df = ggg.loc[i].sort_values(ascending=False)\n",
        "  max_index = temp_df.index[0][1]\n",
        "  print(i,max_index)"
      ],
      "execution_count": null,
      "outputs": []
    },
    {
      "cell_type": "code",
      "metadata": {
        "id": "spiTrbkJQLeO"
      },
      "source": [
        "max_index = []\n",
        "for i in ggg.index:\n",
        "  temp_df = ggg.loc[i].sort_values(ascending=False)\n",
        "  max_index.append(temp_df.index[0][1])"
      ],
      "execution_count": null,
      "outputs": []
    },
    {
      "cell_type": "code",
      "metadata": {
        "id": "xjjEJRryQsMZ"
      },
      "source": [
        "max_dict = dict()"
      ],
      "execution_count": null,
      "outputs": []
    },
    {
      "cell_type": "code",
      "metadata": {
        "id": "WPp2gQn5QVYJ"
      },
      "source": [
        "for i in max_index:\n",
        "  if i not in max_dict:\n",
        "    max_dict[i] = 1\n",
        "  else:\n",
        "    max_dict[i] = max_dict[i]+1"
      ],
      "execution_count": null,
      "outputs": []
    },
    {
      "cell_type": "code",
      "metadata": {
        "id": "WILn2YPNRQJ0"
      },
      "source": [
        "max_dict"
      ],
      "execution_count": null,
      "outputs": []
    },
    {
      "cell_type": "markdown",
      "metadata": {
        "id": "AZoR9ZCfEfIE"
      },
      "source": [
        "## 분석\n",
        "-  카이제곱 검정을 통해 연도에 따른 게임 장르가 독립적이지 않다는 가설을 채택한다.\n",
        "= 연도별 선호하는 게임 장르가 다를 것이다.\n",
        "- 하지만 부동의 1위 Action 장르"
      ]
    },
    {
      "cell_type": "markdown",
      "metadata": {
        "id": "r1lEcsQ1sFFj"
      },
      "source": [
        "# 4.출고량이 높은 게임에 대한 Analysis 및 Visualization"
      ]
    },
    {
      "cell_type": "code",
      "metadata": {
        "id": "eirqmNRXsBuU"
      },
      "source": [
        "vgames = vgames.sort_values(by='Year')\n",
        "vgames = vgames.reset_index()\n",
        "vgames = vgames.iloc[:,1:]\n",
        "vgames"
      ],
      "execution_count": null,
      "outputs": []
    },
    {
      "cell_type": "code",
      "metadata": {
        "id": "Hrpe0Zdd1W98"
      },
      "source": [
        "vgames['Total'] = vgames['NA_Sales'] + vgames['JP_Sales'] + vgames['EU_Sales'] + vgames['Other_Sales']\n",
        "vgames.head()"
      ],
      "execution_count": null,
      "outputs": []
    },
    {
      "cell_type": "code",
      "metadata": {
        "id": "UOVyUxIuR8rI"
      },
      "source": [
        "anal3 = vgames.sort_values(by='Total',ascending=False)\n",
        "anal3 = anal3.reset_index()\n",
        "anal3 = anal3.iloc[:,1:]\n",
        "anal3"
      ],
      "execution_count": null,
      "outputs": []
    },
    {
      "cell_type": "markdown",
      "metadata": {
        "id": "YitzTY6Jy8ae"
      },
      "source": [
        "## -1980~2016 Top10 & Top100"
      ]
    },
    {
      "cell_type": "code",
      "metadata": {
        "id": "DzRmBNChrcCd"
      },
      "source": [
        "anal3_top10 = anal3.iloc[:10,]\n",
        "print('*'*8,'Top 10 Name','*'*8 )\n",
        "print(anal3_top10['Name'])\n",
        "print()\n",
        "print('*'*8,'Top 10 Genre','*'*8 )\n",
        "print(anal3_top10['Genre'])\n",
        "print()\n",
        "print('*'*8,'Top 10 Genre Count','*'*8)\n",
        "print(anal3_top10['Genre'].value_counts())\n",
        "\n",
        "print()\n",
        "print('*'*8,'Top 10 Platform Count','*'*8)\n",
        "print(anal3_top10['Platform'].value_counts())\n",
        "print()\n",
        "print('*'*8,'Top 10 Publisher Count','*'*8)\n",
        "print(anal3_top10['Publisher'].value_counts())\n",
        "print()\n",
        "print('*'*8,'Top 10 Total Sales','*'*8)\n",
        "anal3_top10count = pd.DataFrame(anal3_top10.groupby('Genre')['Total'].sum()).sort_values(by='Total',ascending=False)\n",
        "print(anal3_top10count)\n",
        "plt.figure(figsize=(10,4))\n",
        "sns.barplot(x=anal3_top10count.index,y='Total',data=anal3_top10count)"
      ],
      "execution_count": null,
      "outputs": []
    },
    {
      "cell_type": "markdown",
      "metadata": {
        "id": "AFgfji2t60b_"
      },
      "source": [
        "### Top 10 해석"
      ]
    },
    {
      "cell_type": "markdown",
      "metadata": {
        "id": "fGnlJJqX5xyW"
      },
      "source": [
        "\n",
        "1980년부터 2016까지의 판매량 Top 10 \n",
        "1. Wii Sports\n",
        "2. Super Mario Bros.\n",
        "3. Mario Kart Wii\n",
        "\n",
        "모두 Nintendo에서 나왔다.\n",
        "\n",
        "장르는 스포츠, 플랫폼, 레이싱 순으로 출고량이 많다.\n"
      ]
    },
    {
      "cell_type": "code",
      "metadata": {
        "id": "bgUfR80oqoKc"
      },
      "source": [
        "anal3_top100 = anal3.iloc[:100,]\n",
        "print('*'*8,'Top 100 Genre','*'*8 )\n",
        "print(anal3_top100['Genre'])\n",
        "print()\n",
        "print('*'*8,'Top 100 Genre Count','*'*8)\n",
        "print(anal3_top100['Genre'].value_counts())\n",
        "anal3_top100_counts = pd.DataFrame(anal3_top100['Genre'].value_counts())\n",
        "plt.figure(figsize=(10,4))\n",
        "sns.barplot(x=anal3_top100_counts.index,y='Genre',data=anal3_top100_counts)\n",
        "plt.show()\n",
        "print()\n",
        "print('*'*8,'Top 100 Total Sales','*'*8)\n",
        "anal3_top100count = pd.DataFrame(anal3_top100.groupby('Genre')['Total'].sum()).sort_values(by='Total',ascending=False)\n",
        "print(anal3_top100count)\n",
        "plt.figure(figsize=(10,4))\n",
        "sns.barplot(x=anal3_top100count.index,y='Total',data=anal3_top100count)\n",
        "plt.show()\n",
        "print('*'*8,'Top 100 Platform','*'*8)\n",
        "anal3_top100countplatform = pd.DataFrame(anal3_top100.groupby('Platform')['Total'].sum()).sort_values(by='Total',ascending=False)\n",
        "print(anal3_top100countplatform)\n",
        "plt.figure(figsize=(10,4))\n",
        "sns.barplot(x=anal3_top100countplatform.index,y='Total',data=anal3_top100countplatform)\n",
        "plt.show()\n",
        "print()\n",
        "print('*'*8,'Top 100 Publisher','*'*8)\n",
        "anla3_top100publisher = pd.DataFrame(anal3_top100.groupby('Publisher')['Total'].sum()).sort_values(by='Total',ascending=False)\n",
        "print(anla3_top100publisher)\n",
        "plt.figure(figsize=(30,4))\n",
        "sns.barplot(x=anla3_top100publisher.index,y='Total',data=anla3_top100publisher)\n",
        "plt.show()"
      ],
      "execution_count": null,
      "outputs": []
    },
    {
      "cell_type": "markdown",
      "metadata": {
        "id": "WAIQa49a7KC7"
      },
      "source": [
        "### Top 100 해석"
      ]
    },
    {
      "cell_type": "markdown",
      "metadata": {
        "id": "Pkur7z787MGO"
      },
      "source": [
        "1980년부터 2016까지의 판매량 Top 100\n",
        "\n",
        "[Genre]\n",
        "1. Shooter\n",
        "2. Platform\n",
        "3. Role-Playing\n",
        "\n",
        "위 3가지가 가장 많이 출시된 장르이며, 총 출고량도 가장 높다.\n",
        "\n",
        "[Platform]\n",
        "1. Wii\n",
        "2. DS\n",
        "3. X360\n",
        "\n",
        "[Publisher]\n",
        "1. Nintendo\n",
        "2. Activision\n",
        "3. Take-Two Interactive\n",
        "\n",
        "Activision은 Call of Duty, Take-Two Interactive은 Grand Theft Auto\n",
        "시리즈물의 판매량이 높아서 총 판매량 Publisher에 있음."
      ]
    },
    {
      "cell_type": "code",
      "metadata": {
        "id": "r_eDKakU-YPc"
      },
      "source": [
        "totalsales = anal3['Total'].sum()\n",
        "totalsales"
      ],
      "execution_count": null,
      "outputs": []
    },
    {
      "cell_type": "code",
      "metadata": {
        "id": "C28eB0vf-_ef"
      },
      "source": [
        "anal3_mariosales = vgames[vgames['Name'].str.contains('Mario')]['Total'].sum()\n",
        "round((anal3_mariosales/totalsales)*100,2)"
      ],
      "execution_count": null,
      "outputs": []
    },
    {
      "cell_type": "code",
      "metadata": {
        "id": "WkiCHLUL9CLo"
      },
      "source": [
        "anal3_taketwosales = anal3[anal3['Publisher']=='Take-Two Interactive']['Total'].sum()\n",
        "round((anal3_taketwosales/totalsales)*100,2)"
      ],
      "execution_count": null,
      "outputs": []
    },
    {
      "cell_type": "code",
      "metadata": {
        "id": "wN9O1FCH8m0s"
      },
      "source": [
        "anal3_callofdutysales = vgames[vgames['Name'].str.contains('Call of Duty')]['Total'].sum()\n",
        "round((anal3_callofdutysales/totalsales)*100,2)"
      ],
      "execution_count": null,
      "outputs": []
    },
    {
      "cell_type": "code",
      "metadata": {
        "id": "44h0uuLF-2kx"
      },
      "source": [
        "anal3_pokemonsales = vgames[vgames['Name'].str.contains('Pokemon')]['Total'].sum()\n",
        "round((anal3_pokemonsales/totalsales)*100,2)"
      ],
      "execution_count": null,
      "outputs": []
    },
    {
      "cell_type": "code",
      "metadata": {
        "id": "L-tYiNWx_HQZ"
      },
      "source": [
        "anal3_grandtheftsales = vgames[vgames['Name'].str.contains('Grand Theft Auto')]['Total'].sum()\n",
        "round((anal3_grandtheftsales/totalsales)*100,2)"
      ],
      "execution_count": null,
      "outputs": []
    },
    {
      "cell_type": "markdown",
      "metadata": {
        "id": "IttHBkMCvIZx"
      },
      "source": [
        "## -최근 5년 Top10 & Top100"
      ]
    },
    {
      "cell_type": "code",
      "metadata": {
        "id": "x6J01EyFsZH7"
      },
      "source": [
        "recent5year = vgames[vgames['Year']>=2011]\n",
        "recent5year"
      ],
      "execution_count": null,
      "outputs": []
    },
    {
      "cell_type": "code",
      "metadata": {
        "id": "oU33TpJhssvl"
      },
      "source": [
        "recent5year = recent5year.sort_values(by='Total',ascending=False)\n",
        "recent5year = recent5year.reset_index()\n",
        "recent5year = recent5year.iloc[:,1:]\n",
        "recent5year"
      ],
      "execution_count": null,
      "outputs": []
    },
    {
      "cell_type": "code",
      "metadata": {
        "id": "WnIH6Xw4rpla"
      },
      "source": [
        "print('*'*8,'Recent 5 years Top 10 Name','*'*8 )\n",
        "recent5year_top10 = recent5year.iloc[:10,]\n",
        "print()\n",
        "print(recent5year_top10['Name'])\n",
        "print('*'*8,'Recent 5 years Top 10 Genre','*'*8 )\n",
        "print(recent5year_top10['Genre'])\n",
        "print()\n",
        "print('*'*8,'Recent 5 years Top 10 Genre Count','*'*8)\n",
        "print(recent5year_top10['Genre'].value_counts())\n",
        "\n",
        "print()\n",
        "print('*'*8,'Recent 5 years Top 10 Platform Count','*'*8)\n",
        "print(recent5year_top10['Platform'].value_counts())\n",
        "print()\n",
        "print('*'*8,'Recent 5 years Top 10 Publish Count','*'*8)\n",
        "print(recent5year_top10['Publisher'].value_counts())\n",
        "print()\n",
        "print('*'*8,'Recent 5 years Top 10 Total Sales','*'*8)\n",
        "recent5year_top10count = pd.DataFrame(recent5year_top10.groupby('Genre')['Total'].sum()).sort_values(by='Total',ascending=False)\n",
        "print(recent5year_top100count)\n",
        "plt.figure(figsize=(10,4))\n",
        "sns.barplot(x=recent5year_top100count.index,y='Total',data=recent5year_top100count)"
      ],
      "execution_count": null,
      "outputs": []
    },
    {
      "cell_type": "markdown",
      "metadata": {
        "id": "EmUpmhOf9npE"
      },
      "source": [
        "### Top10 해석"
      ]
    },
    {
      "cell_type": "markdown",
      "metadata": {
        "id": "APYyBrkt9qac"
      },
      "source": [
        "[Genre & Total Sales]\n",
        "1. Shooter\n",
        "2. Action\n",
        "3. Role-Playing\n",
        "\n",
        "\n",
        "[Publisher]\n",
        "1. Activision\n",
        "2. Take-Two Interactive\n",
        "3. Nintendo\n"
      ]
    },
    {
      "cell_type": "code",
      "metadata": {
        "id": "HhuwCYt6_9d4"
      },
      "source": [
        "recent5yeartotalsales = recent5year['Total'].sum()\n",
        "recent5yeartotalsales"
      ],
      "execution_count": null,
      "outputs": []
    },
    {
      "cell_type": "code",
      "metadata": {
        "id": "KmJFZh2__9d5"
      },
      "source": [
        "recent5year_taketwosales = recent5year[recent5year['Publisher']=='Take-Two Interactive']['Total'].sum()\n",
        "round((recent5year_taketwosales/recent5yeartotalsales)*100,2)"
      ],
      "execution_count": null,
      "outputs": []
    },
    {
      "cell_type": "code",
      "metadata": {
        "id": "ziJzbZGZ_9d5"
      },
      "source": [
        "recent5year_callofdutysales = recent5year[recent5year['Name'].str.contains('Call of Duty')]['Total'].sum()\n",
        "round((recent5year_callofdutysales/recent5yeartotalsales)*100,2)"
      ],
      "execution_count": null,
      "outputs": []
    },
    {
      "cell_type": "code",
      "metadata": {
        "id": "luKz2P5g_9d6"
      },
      "source": [
        "recent5year_pokemonsales = recent5year[recent5year['Name'].str.contains('Pokemon')]['Total'].sum()\n",
        "round((recent5year_pokemonsales/recent5yeartotalsales)*100,2)"
      ],
      "execution_count": null,
      "outputs": []
    },
    {
      "cell_type": "code",
      "metadata": {
        "id": "xpxoOt9J_9d6"
      },
      "source": [
        "recent5year_grandtheftsales = recent5year[recent5year['Name'].str.contains('Grand Theft Auto')]['Total'].sum()\n",
        "round((recent5year_grandtheftsales/recent5yeartotalsales)*100,2)"
      ],
      "execution_count": null,
      "outputs": []
    },
    {
      "cell_type": "code",
      "metadata": {
        "id": "fskM8gxbyXjK"
      },
      "source": [
        "recent5year_top100 = recent5year.iloc[:100,]\n",
        "print('*'*8,'Recent 5 years Top 100 Genre','*'*8 )\n",
        "print(recent5year_top100['Genre'])\n",
        "print()\n",
        "print('*'*8,'Recent 5 years Top 100 Genre Count','*'*8)\n",
        "print(recent5year_top100['Genre'].value_counts())\n",
        "recent5year_top100_counts = pd.DataFrame(recent5year_top100['Genre'].value_counts())\n",
        "plt.figure(figsize=(10,4))\n",
        "sns.barplot(x=recent5year_top100_counts.index,y='Genre',data=recent5year_top100_counts)\n",
        "plt.show()\n",
        "print()\n",
        "print('*'*8,'Recent 5 years Top 100 Total Sales','*'*8)\n",
        "b\n",
        "plt.figure(figsize=(10,4))\n",
        "sns.barplot(x=recent5year_top100count.index,y='Total',data=recent5year_top100count)\n",
        "plt.show()\n",
        "print()\n",
        "print('*'*8,'Recent 5 years Top 100 Platform','*'*8)\n",
        "recent5year_top100platform = pd.DataFrame(recent5year_top100.groupby('Platform')['Total'].sum()).sort_values(by='Total',ascending=False)\n",
        "print(recent5year_top100platform)\n",
        "plt.figure(figsize=(10,4))\n",
        "sns.barplot(x=recent5year_top100platform.index,y='Total',data=recent5year_top100platform)\n",
        "plt.show()\n",
        "print()\n",
        "print('*'*8,'Recent 5 years Top 100 Publisher','*'*8)\n",
        "recent5year_top100publisher = pd.DataFrame(recent5year_top100.groupby('Publisher')['Total'].sum()).sort_values(by='Total',ascending=False)\n",
        "print(recent5year_top100publisher)\n",
        "plt.figure(figsize=(30,4))\n",
        "sns.barplot(x=recent5year_top100publisher.index,y='Total',data=recent5year_top100publisher)\n",
        "plt.show()"
      ],
      "execution_count": null,
      "outputs": []
    },
    {
      "cell_type": "markdown",
      "metadata": {
        "id": "xpHc_Pox36jM"
      },
      "source": [
        "### Top 100 해석"
      ]
    },
    {
      "cell_type": "markdown",
      "metadata": {
        "id": "jJTzotnMBOIK"
      },
      "source": [
        "[Genre]\n",
        "\n",
        "1. Shooter\n",
        "2. Platform\n",
        "3. Role-Playing\n",
        "위 3가지가 가장 많이 출시된 장르이며, 총 출고량도 가장 높다.\n",
        "(최근 5년과 총 인기있는 장르는 동일하다.)\n",
        "\n",
        "[Platform]\n",
        "\n",
        "1. PS3 \n",
        "2. X360\n",
        "3. PS4 \n",
        "\n",
        "[Publisher]\n",
        "\n",
        "1. Nintendo\n",
        "2. Activision\n",
        "3. Electronic Arts \n"
      ]
    },
    {
      "cell_type": "code",
      "metadata": {
        "id": "Y6MvHD1IB_-C"
      },
      "source": [
        "recent5year[(recent5year['Platform']=='PS3')&(recent5year['Publisher']=='Activision')]"
      ],
      "execution_count": null,
      "outputs": []
    },
    {
      "cell_type": "markdown",
      "metadata": {
        "id": "UPGNamnYz7te"
      },
      "source": [
        "# 5.결론"
      ]
    },
    {
      "cell_type": "code",
      "metadata": {
        "id": "dGUlo8urz__N"
      },
      "source": [
        "'''\n",
        "<분석 총 정리>\n",
        "- 지역에 따라 선호하는 게임 장르가 다르다. 또한 미국과 유럽과 기타 지역은 Action Sports Shooter\n",
        "일본 Role-Playing Action Sports 순으로 출고량이 많았다.\n",
        "- 연도별 선호하는 게임 장르가 다르지만 부동의 1위 Action 장르.\n",
        "- 1980년부터의 총 출고량과 최근 5년간 출고량이 많은 플랫폼을 보면 새로운 게임기기(Platform)에 맞춰 그에 맞는 게임이 인기가 많아진다.\n",
        "또한 시리즈물의 인기는 사그라지지 않는 것을 확인할 수 있다.\n",
        "'''"
      ],
      "execution_count": null,
      "outputs": []
    },
    {
      "cell_type": "code",
      "metadata": {
        "id": "KU2gBuU8Hf7G"
      },
      "source": [
        "'''\n",
        "Goal: 다음 분기에 어떤 게임을 설계해야 할까?\n",
        "장르는 Action 혹은 Sports,Shooter Nintendo 회사 게임을 설계하면 많이 팔릴 것 같다.\n",
        "특히 유명 시리즈물인 마리오, 포켓몬, 콜오브듀티로 설계하면 매출을 올릴 가능성이 높다.\n",
        "'''"
      ],
      "execution_count": null,
      "outputs": []
    }
  ]
}